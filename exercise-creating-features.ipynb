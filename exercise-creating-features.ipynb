{
 "cells": [
  {
   "cell_type": "markdown",
   "id": "f8dd426b",
   "metadata": {
    "papermill": {
     "duration": 0.006971,
     "end_time": "2023-04-30T04:55:56.816517",
     "exception": false,
     "start_time": "2023-04-30T04:55:56.809546",
     "status": "completed"
    },
    "tags": []
   },
   "source": [
    "**This notebook is an exercise in the [Feature Engineering](https://www.kaggle.com/learn/feature-engineering) course.  You can reference the tutorial at [this link](https://www.kaggle.com/ryanholbrook/creating-features).**\n",
    "\n",
    "---\n"
   ]
  },
  {
   "cell_type": "markdown",
   "id": "21fa2e71",
   "metadata": {
    "papermill": {
     "duration": 0.005155,
     "end_time": "2023-04-30T04:55:56.827601",
     "exception": false,
     "start_time": "2023-04-30T04:55:56.822446",
     "status": "completed"
    },
    "tags": []
   },
   "source": [
    "# Introduction #\n",
    "\n",
    "In this exercise you'll start developing the features you identified in Exercise 2 as having the most potential. As you work through this exercise, you might take a moment to look at the data documentation again and consider whether the features we're creating make sense from a real-world perspective, and whether there are any useful combinations that stand out to you.\n",
    "\n",
    "Run this cell to set everything up!"
   ]
  },
  {
   "cell_type": "code",
   "execution_count": 1,
   "id": "9cccc157",
   "metadata": {
    "execution": {
     "iopub.execute_input": "2023-04-30T04:55:56.841807Z",
     "iopub.status.busy": "2023-04-30T04:55:56.841231Z",
     "iopub.status.idle": "2023-04-30T04:55:58.248914Z",
     "shell.execute_reply": "2023-04-30T04:55:58.247700Z"
    },
    "papermill": {
     "duration": 1.418828,
     "end_time": "2023-04-30T04:55:58.251950",
     "exception": false,
     "start_time": "2023-04-30T04:55:56.833122",
     "status": "completed"
    },
    "tags": []
   },
   "outputs": [],
   "source": [
    "# Setup feedback system\n",
    "from learntools.core import binder\n",
    "binder.bind(globals())\n",
    "from learntools.feature_engineering_new.ex3 import *\n",
    "\n",
    "import numpy as np\n",
    "import pandas as pd\n",
    "from sklearn.model_selection import cross_val_score\n",
    "from xgboost import XGBRegressor\n",
    "\n",
    "\n",
    "def score_dataset(X, y, model=XGBRegressor()):\n",
    "    # Label encoding for categoricals\n",
    "    for colname in X.select_dtypes([\"category\", \"object\"]):\n",
    "        X[colname], _ = X[colname].factorize()\n",
    "    # Metric for Housing competition is RMSLE (Root Mean Squared Log Error)\n",
    "    score = cross_val_score(\n",
    "        model, X, y, cv=5, scoring=\"neg_mean_squared_log_error\",\n",
    "    )\n",
    "    score = -1 * score.mean()\n",
    "    score = np.sqrt(score)\n",
    "    return score\n",
    "\n",
    "\n",
    "# Prepare data\n",
    "df = pd.read_csv(\"../input/fe-course-data/ames.csv\")\n",
    "X = df.copy()\n",
    "y = X.pop(\"SalePrice\")"
   ]
  },
  {
   "cell_type": "markdown",
   "id": "9a5b95fb",
   "metadata": {
    "papermill": {
     "duration": 0.005435,
     "end_time": "2023-04-30T04:55:58.263166",
     "exception": false,
     "start_time": "2023-04-30T04:55:58.257731",
     "status": "completed"
    },
    "tags": []
   },
   "source": [
    "-------------------------------------------------------------------------------\n",
    "\n",
    "Let's start with a few mathematical combinations. We'll focus on features describing areas -- having the same units (square-feet) makes it easy to combine them in sensible ways. Since we're using XGBoost (a tree-based model), we'll focus on ratios and sums.\n",
    "\n",
    "# 1) Create Mathematical Transforms\n",
    "\n",
    "Create the following features:\n",
    "\n",
    "- `LivLotRatio`: the ratio of `GrLivArea` to `LotArea`\n",
    "- `Spaciousness`: the sum of `FirstFlrSF` and `SecondFlrSF` divided by `TotRmsAbvGrd`\n",
    "- `TotalOutsideSF`: the sum of `WoodDeckSF`, `OpenPorchSF`, `EnclosedPorch`, `Threeseasonporch`, and `ScreenPorch`"
   ]
  },
  {
   "cell_type": "code",
   "execution_count": 2,
   "id": "df01f1b6",
   "metadata": {
    "execution": {
     "iopub.execute_input": "2023-04-30T04:55:58.277519Z",
     "iopub.status.busy": "2023-04-30T04:55:58.276358Z",
     "iopub.status.idle": "2023-04-30T04:55:58.302906Z",
     "shell.execute_reply": "2023-04-30T04:55:58.301549Z"
    },
    "lines_to_next_cell": 0,
    "papermill": {
     "duration": 0.036821,
     "end_time": "2023-04-30T04:55:58.305622",
     "exception": false,
     "start_time": "2023-04-30T04:55:58.268801",
     "status": "completed"
    },
    "tags": []
   },
   "outputs": [
    {
     "data": {
      "application/javascript": [
       "parent.postMessage({\"jupyterEvent\": \"custom.exercise_interaction\", \"data\": {\"outcomeType\": 1, \"valueTowardsCompletion\": 0.2, \"interactionType\": 1, \"questionType\": 2, \"questionId\": \"1_Q1\", \"learnToolsVersion\": \"0.3.4\", \"failureMessage\": \"\", \"exceptionClass\": \"\", \"trace\": \"\"}}, \"*\")"
      ],
      "text/plain": [
       "<IPython.core.display.Javascript object>"
      ]
     },
     "metadata": {},
     "output_type": "display_data"
    },
    {
     "data": {
      "text/markdown": [
       "<span style=\"color:#33cc33\">Correct</span>"
      ],
      "text/plain": [
       "Correct"
      ]
     },
     "metadata": {},
     "output_type": "display_data"
    }
   ],
   "source": [
    "# YOUR CODE HERE\n",
    "X_1 = pd.DataFrame()  # dataframe to hold new features\n",
    "\n",
    "X_1[\"LivLotRatio\"] =  df.GrLivArea / df.LotArea\n",
    "X_1[\"Spaciousness\"] = (df.FirstFlrSF + df.SecondFlrSF) / df.TotRmsAbvGrd\n",
    "X_1[\"TotalOutsideSF\"] = df.WoodDeckSF + df.OpenPorchSF + df.EnclosedPorch + df.Threeseasonporch + df.ScreenPorch\n",
    "\n",
    "\n",
    "# Check your answer\n",
    "q_1.check()"
   ]
  },
  {
   "cell_type": "code",
   "execution_count": 3,
   "id": "80e921e4",
   "metadata": {
    "execution": {
     "iopub.execute_input": "2023-04-30T04:55:58.319558Z",
     "iopub.status.busy": "2023-04-30T04:55:58.319161Z",
     "iopub.status.idle": "2023-04-30T04:55:58.324809Z",
     "shell.execute_reply": "2023-04-30T04:55:58.323769Z"
    },
    "lines_to_next_cell": 0,
    "papermill": {
     "duration": 0.015546,
     "end_time": "2023-04-30T04:55:58.327337",
     "exception": false,
     "start_time": "2023-04-30T04:55:58.311791",
     "status": "completed"
    },
    "tags": []
   },
   "outputs": [],
   "source": [
    "# Lines below will give you a hint or solution code\n",
    "#q_1.hint()\n",
    "#q_1.solution()"
   ]
  },
  {
   "cell_type": "markdown",
   "id": "89d3ff01",
   "metadata": {
    "papermill": {
     "duration": 0.006005,
     "end_time": "2023-04-30T04:55:58.339474",
     "exception": false,
     "start_time": "2023-04-30T04:55:58.333469",
     "status": "completed"
    },
    "tags": []
   },
   "source": [
    "-------------------------------------------------------------------------------\n",
    "\n",
    "If you've discovered an interaction effect between a numeric feature and a categorical feature, you might want to model it explicitly using a one-hot encoding, like so:\n",
    "\n",
    "```\n",
    "# One-hot encode Categorical feature, adding a column prefix \"Cat\"\n",
    "X_new = pd.get_dummies(df.Categorical, prefix=\"Cat\")\n",
    "\n",
    "# Multiply row-by-row\n",
    "X_new = X_new.mul(df.Continuous, axis=0)\n",
    "\n",
    "# Join the new features to the feature set\n",
    "X = X.join(X_new)\n",
    "```\n",
    "\n",
    "# 2) Interaction with a Categorical\n",
    "\n",
    "We discovered an interaction between `BldgType` and `GrLivArea` in Exercise 2. Now create their interaction features."
   ]
  },
  {
   "cell_type": "code",
   "execution_count": 4,
   "id": "a6e6b818",
   "metadata": {
    "execution": {
     "iopub.execute_input": "2023-04-30T04:55:58.353030Z",
     "iopub.status.busy": "2023-04-30T04:55:58.352591Z",
     "iopub.status.idle": "2023-04-30T04:55:58.372043Z",
     "shell.execute_reply": "2023-04-30T04:55:58.370764Z"
    },
    "lines_to_next_cell": 0,
    "papermill": {
     "duration": 0.02929,
     "end_time": "2023-04-30T04:55:58.374587",
     "exception": false,
     "start_time": "2023-04-30T04:55:58.345297",
     "status": "completed"
    },
    "tags": []
   },
   "outputs": [
    {
     "data": {
      "application/javascript": [
       "parent.postMessage({\"jupyterEvent\": \"custom.exercise_interaction\", \"data\": {\"outcomeType\": 1, \"valueTowardsCompletion\": 0.2, \"interactionType\": 1, \"questionType\": 2, \"questionId\": \"2_Q2\", \"learnToolsVersion\": \"0.3.4\", \"failureMessage\": \"\", \"exceptionClass\": \"\", \"trace\": \"\"}}, \"*\")"
      ],
      "text/plain": [
       "<IPython.core.display.Javascript object>"
      ]
     },
     "metadata": {},
     "output_type": "display_data"
    },
    {
     "data": {
      "text/markdown": [
       "<span style=\"color:#33cc33\">Correct</span>"
      ],
      "text/plain": [
       "Correct"
      ]
     },
     "metadata": {},
     "output_type": "display_data"
    }
   ],
   "source": [
    "# YOUR CODE HERE\n",
    "# One-hot encode BldgType. Use `prefix=\"Bldg\"` in `get_dummies`\n",
    "X_2 = pd.get_dummies(df.BldgType, prefix=\"Bldg\") \n",
    "# Multiply\n",
    "X_2 = X_2.mul(df.GrLivArea, axis=0)\n",
    "\n",
    "\n",
    "# Check your answer\n",
    "q_2.check()"
   ]
  },
  {
   "cell_type": "code",
   "execution_count": 5,
   "id": "8022e911",
   "metadata": {
    "execution": {
     "iopub.execute_input": "2023-04-30T04:55:58.388737Z",
     "iopub.status.busy": "2023-04-30T04:55:58.388299Z",
     "iopub.status.idle": "2023-04-30T04:55:58.392956Z",
     "shell.execute_reply": "2023-04-30T04:55:58.391766Z"
    },
    "lines_to_next_cell": 0,
    "papermill": {
     "duration": 0.014717,
     "end_time": "2023-04-30T04:55:58.395485",
     "exception": false,
     "start_time": "2023-04-30T04:55:58.380768",
     "status": "completed"
    },
    "tags": []
   },
   "outputs": [],
   "source": [
    "# Lines below will give you a hint or solution code\n",
    "#q_2.hint()\n",
    "#q_2.solution()"
   ]
  },
  {
   "cell_type": "markdown",
   "id": "8c944b03",
   "metadata": {
    "lines_to_next_cell": 0,
    "papermill": {
     "duration": 0.005898,
     "end_time": "2023-04-30T04:55:58.407550",
     "exception": false,
     "start_time": "2023-04-30T04:55:58.401652",
     "status": "completed"
    },
    "tags": []
   },
   "source": [
    "# 3) Count Feature\n",
    "\n",
    "Let's try creating a feature that describes how many kinds of outdoor areas a dwelling has. Create a feature `PorchTypes` that counts how many of the following are greater than 0.0:\n",
    "\n",
    "```\n",
    "WoodDeckSF\n",
    "OpenPorchSF\n",
    "EnclosedPorch\n",
    "Threeseasonporch\n",
    "ScreenPorch\n",
    "```"
   ]
  },
  {
   "cell_type": "code",
   "execution_count": 6,
   "id": "e7239df3",
   "metadata": {
    "execution": {
     "iopub.execute_input": "2023-04-30T04:55:58.421977Z",
     "iopub.status.busy": "2023-04-30T04:55:58.421490Z",
     "iopub.status.idle": "2023-04-30T04:55:58.438219Z",
     "shell.execute_reply": "2023-04-30T04:55:58.437134Z"
    },
    "lines_to_next_cell": 0,
    "papermill": {
     "duration": 0.027317,
     "end_time": "2023-04-30T04:55:58.440842",
     "exception": false,
     "start_time": "2023-04-30T04:55:58.413525",
     "status": "completed"
    },
    "tags": []
   },
   "outputs": [
    {
     "data": {
      "application/javascript": [
       "parent.postMessage({\"jupyterEvent\": \"custom.exercise_interaction\", \"data\": {\"outcomeType\": 1, \"valueTowardsCompletion\": 0.2, \"interactionType\": 1, \"questionType\": 2, \"questionId\": \"3_Q3\", \"learnToolsVersion\": \"0.3.4\", \"failureMessage\": \"\", \"exceptionClass\": \"\", \"trace\": \"\"}}, \"*\")"
      ],
      "text/plain": [
       "<IPython.core.display.Javascript object>"
      ]
     },
     "metadata": {},
     "output_type": "display_data"
    },
    {
     "data": {
      "text/markdown": [
       "<span style=\"color:#33cc33\">Correct</span>"
      ],
      "text/plain": [
       "Correct"
      ]
     },
     "metadata": {},
     "output_type": "display_data"
    }
   ],
   "source": [
    "X_3 = pd.DataFrame()\n",
    "\n",
    "# YOUR CODE HERE\n",
    "X_3[\"PorchTypes\"] = df[[\n",
    "    \"WoodDeckSF\",\n",
    "    \"OpenPorchSF\",\n",
    "    \"EnclosedPorch\",\n",
    "    \"Threeseasonporch\",\n",
    "    \"ScreenPorch\",\n",
    "]].gt(0.0).sum(axis=1)\n",
    "\n",
    "\n",
    "# Check your answer\n",
    "q_3.check()"
   ]
  },
  {
   "cell_type": "code",
   "execution_count": 7,
   "id": "ef264b09",
   "metadata": {
    "execution": {
     "iopub.execute_input": "2023-04-30T04:55:58.457123Z",
     "iopub.status.busy": "2023-04-30T04:55:58.456205Z",
     "iopub.status.idle": "2023-04-30T04:55:58.461482Z",
     "shell.execute_reply": "2023-04-30T04:55:58.460170Z"
    },
    "lines_to_next_cell": 0,
    "papermill": {
     "duration": 0.016694,
     "end_time": "2023-04-30T04:55:58.463983",
     "exception": false,
     "start_time": "2023-04-30T04:55:58.447289",
     "status": "completed"
    },
    "tags": []
   },
   "outputs": [],
   "source": [
    "# Lines below will give you a hint or solution code\n",
    "#q_3.hint()\n",
    "#q_3.solution()"
   ]
  },
  {
   "cell_type": "markdown",
   "id": "3012e769",
   "metadata": {
    "papermill": {
     "duration": 0.005992,
     "end_time": "2023-04-30T04:55:58.476313",
     "exception": false,
     "start_time": "2023-04-30T04:55:58.470321",
     "status": "completed"
    },
    "tags": []
   },
   "source": [
    "# 4) Break Down a Categorical Feature\n",
    "\n",
    "`MSSubClass` describes the type of a dwelling:"
   ]
  },
  {
   "cell_type": "code",
   "execution_count": 8,
   "id": "847d055b",
   "metadata": {
    "execution": {
     "iopub.execute_input": "2023-04-30T04:55:58.490766Z",
     "iopub.status.busy": "2023-04-30T04:55:58.490339Z",
     "iopub.status.idle": "2023-04-30T04:55:58.499280Z",
     "shell.execute_reply": "2023-04-30T04:55:58.498039Z"
    },
    "papermill": {
     "duration": 0.019103,
     "end_time": "2023-04-30T04:55:58.501608",
     "exception": false,
     "start_time": "2023-04-30T04:55:58.482505",
     "status": "completed"
    },
    "tags": []
   },
   "outputs": [
    {
     "data": {
      "text/plain": [
       "array(['One_Story_1946_and_Newer_All_Styles', 'Two_Story_1946_and_Newer',\n",
       "       'One_Story_PUD_1946_and_Newer',\n",
       "       'One_and_Half_Story_Finished_All_Ages', 'Split_Foyer',\n",
       "       'Two_Story_PUD_1946_and_Newer', 'Split_or_Multilevel',\n",
       "       'One_Story_1945_and_Older', 'Duplex_All_Styles_and_Ages',\n",
       "       'Two_Family_conversion_All_Styles_and_Ages',\n",
       "       'One_and_Half_Story_Unfinished_All_Ages',\n",
       "       'Two_Story_1945_and_Older', 'Two_and_Half_Story_All_Ages',\n",
       "       'One_Story_with_Finished_Attic_All_Ages',\n",
       "       'PUD_Multilevel_Split_Level_Foyer',\n",
       "       'One_and_Half_Story_PUD_All_Ages'], dtype=object)"
      ]
     },
     "execution_count": 8,
     "metadata": {},
     "output_type": "execute_result"
    }
   ],
   "source": [
    "df.MSSubClass.unique()"
   ]
  },
  {
   "cell_type": "markdown",
   "id": "430a579b",
   "metadata": {
    "papermill": {
     "duration": 0.006108,
     "end_time": "2023-04-30T04:55:58.514372",
     "exception": false,
     "start_time": "2023-04-30T04:55:58.508264",
     "status": "completed"
    },
    "tags": []
   },
   "source": [
    "You can see that there is a more general categorization described (roughly) by the first word of each category. Create a feature containing only these first words by splitting `MSSubClass` at the first underscore `_`. (Hint: In the `split` method use an argument `n=1`.)"
   ]
  },
  {
   "cell_type": "code",
   "execution_count": 9,
   "id": "242aa637",
   "metadata": {
    "execution": {
     "iopub.execute_input": "2023-04-30T04:55:58.528863Z",
     "iopub.status.busy": "2023-04-30T04:55:58.528392Z",
     "iopub.status.idle": "2023-04-30T04:55:58.555170Z",
     "shell.execute_reply": "2023-04-30T04:55:58.553927Z"
    },
    "lines_to_next_cell": 0,
    "papermill": {
     "duration": 0.036615,
     "end_time": "2023-04-30T04:55:58.557320",
     "exception": false,
     "start_time": "2023-04-30T04:55:58.520705",
     "status": "completed"
    },
    "tags": []
   },
   "outputs": [
    {
     "data": {
      "application/javascript": [
       "parent.postMessage({\"jupyterEvent\": \"custom.exercise_interaction\", \"data\": {\"outcomeType\": 1, \"valueTowardsCompletion\": 0.2, \"interactionType\": 1, \"questionType\": 2, \"questionId\": \"4_Q4\", \"learnToolsVersion\": \"0.3.4\", \"failureMessage\": \"\", \"exceptionClass\": \"\", \"trace\": \"\"}}, \"*\")"
      ],
      "text/plain": [
       "<IPython.core.display.Javascript object>"
      ]
     },
     "metadata": {},
     "output_type": "display_data"
    },
    {
     "data": {
      "text/markdown": [
       "<span style=\"color:#33cc33\">Correct</span>"
      ],
      "text/plain": [
       "Correct"
      ]
     },
     "metadata": {},
     "output_type": "display_data"
    }
   ],
   "source": [
    "X_4 = pd.DataFrame()\n",
    "\n",
    "# YOUR CODE HERE\n",
    "X_4[\"MSClass\"] = df.MSSubClass.str.split(\"_\", n=1, expand=True)[0]\n",
    "\n",
    "# Check your answer\n",
    "q_4.check()"
   ]
  },
  {
   "cell_type": "code",
   "execution_count": 10,
   "id": "e0bc321a",
   "metadata": {
    "execution": {
     "iopub.execute_input": "2023-04-30T04:55:58.572491Z",
     "iopub.status.busy": "2023-04-30T04:55:58.572081Z",
     "iopub.status.idle": "2023-04-30T04:55:58.577619Z",
     "shell.execute_reply": "2023-04-30T04:55:58.575862Z"
    },
    "lines_to_next_cell": 0,
    "papermill": {
     "duration": 0.016056,
     "end_time": "2023-04-30T04:55:58.580092",
     "exception": false,
     "start_time": "2023-04-30T04:55:58.564036",
     "status": "completed"
    },
    "tags": []
   },
   "outputs": [],
   "source": [
    "# Lines below will give you a hint or solution code\n",
    "#q_4.hint()\n",
    "#q_4.solution()"
   ]
  },
  {
   "cell_type": "markdown",
   "id": "b56432aa",
   "metadata": {
    "papermill": {
     "duration": 0.006529,
     "end_time": "2023-04-30T04:55:58.593281",
     "exception": false,
     "start_time": "2023-04-30T04:55:58.586752",
     "status": "completed"
    },
    "tags": []
   },
   "source": [
    "# 5) Use a Grouped Transform\n",
    "\n",
    "The value of a home often depends on how it compares to typical homes in its neighborhood. Create a feature `MedNhbdArea` that describes the *median* of `GrLivArea` grouped on `Neighborhood`."
   ]
  },
  {
   "cell_type": "code",
   "execution_count": 11,
   "id": "18c0bdbc",
   "metadata": {
    "execution": {
     "iopub.execute_input": "2023-04-30T04:55:58.608510Z",
     "iopub.status.busy": "2023-04-30T04:55:58.608069Z",
     "iopub.status.idle": "2023-04-30T04:55:58.628300Z",
     "shell.execute_reply": "2023-04-30T04:55:58.627076Z"
    },
    "lines_to_next_cell": 0,
    "papermill": {
     "duration": 0.030658,
     "end_time": "2023-04-30T04:55:58.630482",
     "exception": false,
     "start_time": "2023-04-30T04:55:58.599824",
     "status": "completed"
    },
    "tags": []
   },
   "outputs": [
    {
     "data": {
      "application/javascript": [
       "parent.postMessage({\"jupyterEvent\": \"custom.exercise_interaction\", \"data\": {\"outcomeType\": 1, \"valueTowardsCompletion\": 0.2, \"interactionType\": 1, \"questionType\": 2, \"questionId\": \"5_Q5\", \"learnToolsVersion\": \"0.3.4\", \"failureMessage\": \"\", \"exceptionClass\": \"\", \"trace\": \"\"}}, \"*\")"
      ],
      "text/plain": [
       "<IPython.core.display.Javascript object>"
      ]
     },
     "metadata": {},
     "output_type": "display_data"
    },
    {
     "data": {
      "text/markdown": [
       "<span style=\"color:#33cc33\">Correct</span>"
      ],
      "text/plain": [
       "Correct"
      ]
     },
     "metadata": {},
     "output_type": "display_data"
    }
   ],
   "source": [
    "X_5 = pd.DataFrame()\n",
    "\n",
    "# YOUR CODE HERE\n",
    "X_5[\"MedNhbdArea\"] = df.groupby(\"Neighborhood\")[\"GrLivArea\"].transform(\"median\")\n",
    "\n",
    "# Check your answer\n",
    "q_5.check()"
   ]
  },
  {
   "cell_type": "code",
   "execution_count": 12,
   "id": "dc54240c",
   "metadata": {
    "execution": {
     "iopub.execute_input": "2023-04-30T04:55:58.646066Z",
     "iopub.status.busy": "2023-04-30T04:55:58.645588Z",
     "iopub.status.idle": "2023-04-30T04:55:58.650369Z",
     "shell.execute_reply": "2023-04-30T04:55:58.649289Z"
    },
    "lines_to_next_cell": 0,
    "papermill": {
     "duration": 0.015216,
     "end_time": "2023-04-30T04:55:58.652506",
     "exception": false,
     "start_time": "2023-04-30T04:55:58.637290",
     "status": "completed"
    },
    "tags": []
   },
   "outputs": [],
   "source": [
    "# Lines below will give you a hint or solution code\n",
    "#q_5.hint()\n",
    "#q_5.solution()"
   ]
  },
  {
   "cell_type": "markdown",
   "id": "8aa64285",
   "metadata": {
    "papermill": {
     "duration": 0.007011,
     "end_time": "2023-04-30T04:55:58.666419",
     "exception": false,
     "start_time": "2023-04-30T04:55:58.659408",
     "status": "completed"
    },
    "tags": []
   },
   "source": [
    "Now you've made your first new feature set! If you like, you can run the cell below to score the model with all of your new features added:"
   ]
  },
  {
   "cell_type": "code",
   "execution_count": 13,
   "id": "10261d0d",
   "metadata": {
    "execution": {
     "iopub.execute_input": "2023-04-30T04:55:58.682273Z",
     "iopub.status.busy": "2023-04-30T04:55:58.681838Z",
     "iopub.status.idle": "2023-04-30T04:56:03.526422Z",
     "shell.execute_reply": "2023-04-30T04:56:03.525316Z"
    },
    "papermill": {
     "duration": 4.855808,
     "end_time": "2023-04-30T04:56:03.529248",
     "exception": false,
     "start_time": "2023-04-30T04:55:58.673440",
     "status": "completed"
    },
    "tags": []
   },
   "outputs": [
    {
     "data": {
      "text/plain": [
       "0.13847331710099203"
      ]
     },
     "execution_count": 13,
     "metadata": {},
     "output_type": "execute_result"
    }
   ],
   "source": [
    "X_new = X.join([X_1, X_2, X_3, X_4, X_5])\n",
    "score_dataset(X_new, y)"
   ]
  },
  {
   "cell_type": "markdown",
   "id": "36ae12f4",
   "metadata": {
    "papermill": {
     "duration": 0.00693,
     "end_time": "2023-04-30T04:56:03.544556",
     "exception": false,
     "start_time": "2023-04-30T04:56:03.537626",
     "status": "completed"
    },
    "tags": []
   },
   "source": [
    "# Keep Going #\n",
    "\n",
    "[**Untangle spatial relationships**](https://www.kaggle.com/ryanholbrook/clustering-with-k-means) by adding cluster labels to your dataset."
   ]
  },
  {
   "cell_type": "markdown",
   "id": "606c5cee",
   "metadata": {
    "papermill": {
     "duration": 0.006645,
     "end_time": "2023-04-30T04:56:03.558183",
     "exception": false,
     "start_time": "2023-04-30T04:56:03.551538",
     "status": "completed"
    },
    "tags": []
   },
   "source": [
    "---\n",
    "\n",
    "\n",
    "\n",
    "\n",
    "*Have questions or comments? Visit the [course discussion forum](https://www.kaggle.com/learn/feature-engineering/discussion) to chat with other learners.*"
   ]
  }
 ],
 "metadata": {
  "kernelspec": {
   "display_name": "Python 3",
   "language": "python",
   "name": "python3"
  },
  "language_info": {
   "codemirror_mode": {
    "name": "ipython",
    "version": 3
   },
   "file_extension": ".py",
   "mimetype": "text/x-python",
   "name": "python",
   "nbconvert_exporter": "python",
   "pygments_lexer": "ipython3",
   "version": "3.7.12"
  },
  "papermill": {
   "default_parameters": {},
   "duration": 18.08992,
   "end_time": "2023-04-30T04:56:04.389460",
   "environment_variables": {},
   "exception": null,
   "input_path": "__notebook__.ipynb",
   "output_path": "__notebook__.ipynb",
   "parameters": {},
   "start_time": "2023-04-30T04:55:46.299540",
   "version": "2.4.0"
  }
 },
 "nbformat": 4,
 "nbformat_minor": 5
}
